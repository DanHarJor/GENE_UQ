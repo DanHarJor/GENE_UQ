{
 "cells": [
  {
   "cell_type": "code",
   "execution_count": 8,
   "metadata": {},
   "outputs": [
    {
     "name": "stdout",
     "output_type": "stream",
     "text": [
      "PATHAP GENE_ML/gene_ml/static_sparse_grid_approximations\n"
     ]
    }
   ],
   "source": [
    "import sys\n",
    "import os\n",
    "pathap = os.path.join('GENE_ML','gene_ml','static_sparse_grid_approximations')\n",
    "print('PATHAP',pathap)\n",
    "sys.path.append(pathap)\n",
    "\n",
    "#allows any changes on external files to be loaded on code run.\n",
    "%load_ext autoreload\n",
    "%autoreload 2\n"
   ]
  },
  {
   "cell_type": "code",
   "execution_count": 6,
   "metadata": {},
   "outputs": [],
   "source": [
    "import numpy as np\n",
    "\n",
    "\n",
    "### parameter bounds\n",
    "# temp ratio\n",
    "left_temp  \t= 0.2\n",
    "right_temp \t= 1.3\n",
    "\n",
    "# grad n\n",
    "left_omn  \t= -0.4\n",
    "right_omn   = 2.4\n",
    "\n",
    "# grad T_i\n",
    "left_omt_ions  \t= 2.\n",
    "right_omt_ions \t= 4.\n",
    "\n",
    "# grad T_e\n",
    "left_omt_elecs  \t= 1.\n",
    "right_omt_elecs  \t= 3.\n",
    "\n",
    "left_stoch_boundary \t= [left_temp, left_omn, left_omt_ions, left_omt_elecs]\n",
    "right_stoch_boundary \t= [right_temp, right_omn, right_omt_ions, right_omt_elecs]\n",
    "\n",
    "\n",
    "### sparse grid setup\n",
    "dim \t\t\t= 4 # no of input parameters of interest \n",
    "level_to_nodes \t= 2 # this parameter determines the growth of the Leja points. A value of 1 indicates that we add only one extra point per level\n",
    "level \t\t\t= 3 # with this setup, the maxium degree of the 1D monomials will be level - 1\n",
    "######\n",
    "\n",
    "\n",
    "### setup for the standard uniform distribution\n",
    "weights \t\t= [lambda x: 1. for d in range(dim)]\n",
    "left_bounds    \t= np.zeros(dim)\n",
    "right_bounds   \t= np.ones(dim)\n",
    "######\n",
    "\n",
    "\n",
    "### mapping from [0, 1] -> [a, b]\n",
    "mapping_to_a_b = lambda a, b, x: a + (b - a)*x\n",
    "######\n",
    "\n",
    "### other config steps"
   ]
  },
  {
   "cell_type": "code",
   "execution_count": 24,
   "metadata": {},
   "outputs": [
    {
     "name": "stdout",
     "output_type": "stream",
     "text": [
      "POINTS SHAPE (15, 4)\n",
      "\u001b[1m no points for dim = 4 and level = 3 is n = 15\u001b[0m\n",
      "PREDICTION WALL TIME FOR 10 POINTS, dd-hh:mm:ss | 00-00:00:0\n",
      "[40.8669361  42.35858348 24.62476631 29.64587101 26.96841593 36.35983109\n",
      " 29.07008274 38.06044794 32.54417308 20.45178841]\n",
      "[40.8669361  42.35858348 24.62476631 29.64587101 26.96841593 36.35983109\n",
      " 29.07008274 38.06044794 32.54417308 20.45178841]\n"
     ]
    }
   ],
   "source": [
    "## target-function\n",
    "f_ref = lambda x: x[0]**2 + x[1]**2 + x[2]**2 + x[3]**2 + 2*x[2] * x[3] + 3\n",
    "\n",
    "parameters = ['temp','grad_n','grad_Ti','grad_Te']\n",
    "bounds = list(zip(left_stoch_boundary, right_stoch_boundary))\n",
    "\n",
    "from GENE_ML.gene_ml.samplers.static_sparse_grid import StaticSparseGrid\n",
    "sampler_ssg = StaticSparseGrid(parameters=parameters,bounds=bounds, level=level)\n",
    "\n",
    "from GENE_ML.gene_ml.dataset.base import DataSet\n",
    "data_set = DataSet()\n",
    "data_set.x = np.array([np.array(l) for l in list(sampler_ssg.samples.values())])\n",
    "data_set.growthrates = f_ref(data_set.x)\n",
    "\n",
    "data_set.growthrates\n",
    "\n",
    "from GENE_ML.gene_ml.models.SSG_POLY import SSG_POLY\n",
    "name='ssg_poly'\n",
    "poly = SSG_POLY(ssg_sampler=sampler_ssg, name='ssg_test')\n",
    "poly.train(y=data_set.growthrates)\n",
    "\n",
    "from GENE_ML.gene_ml.samplers.uniform import Uniform\n",
    "sampler_unif = Uniform(bounds, 10, parameters)\n",
    "\n",
    "true = f_ref(sampler_unif.samples_array.T)\n",
    "\n",
    "predicted = poly.predict(sampler_unif.samples_array)\n",
    "\n",
    "print(true)\n",
    "print(predicted)"
   ]
  },
  {
   "cell_type": "code",
   "execution_count": null,
   "metadata": {},
   "outputs": [],
   "source": []
  }
 ],
 "metadata": {
  "kernelspec": {
   "display_name": "gene_ml",
   "language": "python",
   "name": "python3"
  },
  "language_info": {
   "codemirror_mode": {
    "name": "ipython",
    "version": 3
   },
   "file_extension": ".py",
   "mimetype": "text/x-python",
   "name": "python",
   "nbconvert_exporter": "python",
   "pygments_lexer": "ipython3",
   "version": "3.12.3"
  }
 },
 "nbformat": 4,
 "nbformat_minor": 2
}
