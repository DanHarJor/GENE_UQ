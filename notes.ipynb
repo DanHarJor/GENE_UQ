{
 "cells": [
  {
   "cell_type": "code",
   "execution_count": 19,
   "metadata": {},
   "outputs": [
    {
     "name": "stdout",
     "output_type": "stream",
     "text": [
      "IONSPHERE Electron Plasma Frequency: 1.782e+08, Electron Gyrofrequency: 8.783e+06 Deby Length: 7.443e-04, Plasma Parameter: 4.123e+03\n",
      "SOLAR WIND Electron Plasma Frequency: 1.782e+05, Electron Gyrofrequency: 8.783e-08 Deby Length: 7.444e+00, Plasma Parameter: 4.125e+09\n",
      "CORE OF SUN Electron Plasma Frequency: 1.782e+18, Electron Gyrofrequency: 0.e+00 Deby Length: 7.444e-12, Plasma Parameter: 4.125e-01\n",
      "NEUTRON STAR Electron Plasma Frequency: 5.635e+10, Electron Gyrofrequency: 1.757e+19 Deby Length: 2.354e-03, Plasma Parameter: 1.304e+10\n"
     ]
    }
   ],
   "source": [
    "# electron plasma frequency\n",
    "import numpy as np\n",
    "def plasma_frequency(n0,q,m):\n",
    "    epsilon = 8.85e-12\n",
    "    return np.sqrt((n0*q**2)/(epsilon*m))\n",
    "def gyro_frequency(q,B,m):\n",
    "    return (q*B)/m\n",
    "def debye_length(n,q,T):\n",
    "    eps = 8.854e-12\n",
    "    kb = 1.380649e-23\n",
    "    return np.sqrt(eps * ((kb * T)/(n * q**2)))\n",
    "def plasma_parameter(n,q,T):\n",
    "    dbl = debye_length(n,q,T)\n",
    "    return n*dbl**3\n",
    "def electron_plasma_parameters(n,B,T):\n",
    "    #Electron\n",
    "    qe = 1.6e-19\n",
    "    me = 9.109e-31\n",
    "    pf = plasma_frequency(n,qe,me)\n",
    "    gf = gyro_frequency(qe,B,me)\n",
    "    dbl = debye_length(n,qe,T)\n",
    "    pp = plasma_parameter(n,qe,T)\n",
    "    return [np.format_float_scientific(pf, 3),np.format_float_scientific(gf, 3),np.format_float_scientific(dbl, 3),np.format_float_scientific(pp, 3)]\n",
    "#IonSphere\n",
    "ionsphere = electron_plasma_parameters(1e13, 5e-5, 1160)\n",
    "print('IONSPHERE', f'Electron Plasma Frequency: {ionsphere[0]}, Electron Gyrofrequency: {ionsphere[1]} Deby Length: {ionsphere[2]}, Plasma Parameter: {ionsphere[3]}')\n",
    "solar_wind = electron_plasma_parameters(10e6,5e-19,116044)\n",
    "print('SOLAR WIND', f'Electron Plasma Frequency: {solar_wind[0]}, Electron Gyrofrequency: {solar_wind[1]} Deby Length: {solar_wind[2]}, Plasma Parameter: {solar_wind[3]}')\n",
    "core_of_sun = electron_plasma_parameters(10e32,0,11604425)\n",
    "print('CORE OF SUN', f'Electron Plasma Frequency: {core_of_sun[0]}, Electron Gyrofrequency: {core_of_sun[1]} Deby Length: {core_of_sun[2]}, Plasma Parameter: {core_of_sun[3]}')2\n",
    "neutron_star = electron_plasma_parameters(10**18, 10**8, 1160442516)\n",
    "print('NEUTRON STAR', f'Electron Plasma Frequency: {neutron_star[0]}, Electron Gyrofrequency: {neutron_star[1]} Deby Length: {neutron_star[2]}, Plasma Parameter: {neutron_star[3]}')\n"
   ]
  },
  {
   "cell_type": "code",
   "execution_count": 7,
   "metadata": {},
   "outputs": [
    {
     "name": "stdout",
     "output_type": "stream",
     "text": [
      "T 1.8847757023894254e+20\n",
      "T2 7.347531928511908e+35\n"
     ]
    }
   ],
   "source": [
    "# Exercise 2\n",
    "ld = 1.5\n",
    "n = 4e23\n",
    "qe = 1.6e-19\n",
    "kb = 1.380649e-23\n",
    "eps = 8.854e-12\n",
    "\n",
    "T = (ld**2 * n * qe**2) / (kb * eps)\n",
    "print('T',np.format_float_scientific(T))\n",
    "\n",
    "T2 = (1/n) * ((n*qe**2)/(eps*kb))**3/2\n",
    "print('T2', np.format_float_scientific(T2))"
   ]
  },
  {
   "cell_type": "code",
   "execution_count": 8,
   "metadata": {},
   "outputs": [
    {
     "data": {
      "text/plain": [
       "8.333333333333334e-25"
      ]
     },
     "execution_count": 8,
     "metadata": {},
     "output_type": "execute_result"
    }
   ],
   "source": [
    "n**-1/3"
   ]
  },
  {
   "cell_type": "code",
   "execution_count": 9,
   "metadata": {},
   "outputs": [
    {
     "name": "stdout",
     "output_type": "stream",
     "text": [
      "1.8847757023894254e+20\n",
      "5.770764361671447e-29\n"
     ]
    }
   ],
   "source": [
    "high = (1.5**2*n*qe**2) / (eps * kb)\n",
    "print(high)\n",
    "low =  (8.3e-25**2*n*qe**2) / (eps * kb)\n",
    "print(low)"
   ]
  },
  {
   "cell_type": "code",
   "execution_count": 10,
   "metadata": {},
   "outputs": [
    {
     "name": "stdout",
     "output_type": "stream",
     "text": [
      "1.0186888538333333e-13\n",
      "3.327115577188271e+35\n"
     ]
    }
   ],
   "source": [
    "#2b\n",
    "T=300\n",
    "high = (kb*T*eps)/(1.5**2*qe)\n",
    "print(high)\n",
    "low = (kb*T*eps)/((8.3e-25)**2*qe)\n",
    "print(low)"
   ]
  },
  {
   "cell_type": "code",
   "execution_count": 15,
   "metadata": {},
   "outputs": [
    {
     "name": "stdout",
     "output_type": "stream",
     "text": [
      "average neutral hydeogen velocity 2.7284324556363968e+03\n",
      "2c low 1.3062604715514661e+29\n",
      "3.564043466095924e+13\n"
     ]
    }
   ],
   "source": [
    "#2c\n",
    "import numpy as np\n",
    "mh = 1.67e-27\n",
    "T=300.15\n",
    "kb = 1.380649e-23\n",
    "avgV = np.sqrt((3*kb*T)/mh)\n",
    "print('average neutral hydeogen velocity', np.format_float_scientific(avgV))\n",
    "\n",
    "\n",
    "ne = 4e23\n",
    "qe = 1.6e-19\n",
    "me = 9.109e-31\n",
    "\n",
    "sigma_n = 1e-19\n",
    "\n",
    "low = plasma_frequency(ne,qe,me)/(sigma_n*avgV)\n",
    "print('2c low', low)\n",
    "print(np.format_float_scientific(plasma_frequency(ne,qe,me)))"
   ]
  },
  {
   "cell_type": "code",
   "execution_count": 4,
   "metadata": {},
   "outputs": [
    {
     "name": "stdout",
     "output_type": "stream",
     "text": [
      "9.458748070675993e-06\n",
      "6.702129567658856e-46\n",
      "7.132011431403327e-16\n",
      "1.5681751739314457e+03\n"
     ]
    }
   ],
   "source": [
    "#3\n",
    "import numpy as np\n",
    "def saha(ni, T, U):\n",
    "    #T and U in eV\n",
    "    # returns ni/ne \n",
    "    return 3e27*T**(3/2)*ni**-1*np.exp(-(U/T))\n",
    "\n",
    "ni = 10e11\n",
    "T=0.3\n",
    "U=13.62\n",
    "\n",
    "print(np.format_float_scientific(saha(ni,T,U)))\n",
    "\n",
    "T = [0.1, 0.2, 0.5]\n",
    "\n",
    "for t in T:\n",
    "    print(np.format_float_scientific(saha(ni,t,U)))"
   ]
  },
  {
   "cell_type": "code",
   "execution_count": null,
   "metadata": {},
   "outputs": [],
   "source": []
  }
 ],
 "metadata": {
  "kernelspec": {
   "display_name": "gene_ml",
   "language": "python",
   "name": "python3"
  },
  "language_info": {
   "codemirror_mode": {
    "name": "ipython",
    "version": 3
   },
   "file_extension": ".py",
   "mimetype": "text/x-python",
   "name": "python",
   "nbconvert_exporter": "python",
   "pygments_lexer": "ipython3",
   "version": "3.12.3"
  }
 },
 "nbformat": 4,
 "nbformat_minor": 2
}
